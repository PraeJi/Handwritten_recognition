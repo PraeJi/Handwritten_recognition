{
  "cells": [
    {
      "cell_type": "markdown",
      "metadata": {
        "id": "view-in-github",
        "colab_type": "text"
      },
      "source": [
        "<a href=\"https://colab.research.google.com/github/PraeJi/Handwritten_recognition/blob/main/handwritten_recognition.ipynb\" target=\"_parent\"><img src=\"https://colab.research.google.com/assets/colab-badge.svg\" alt=\"Open In Colab\"/></a>"
      ]
    },
    {
      "cell_type": "markdown",
      "id": "cfc52381",
      "metadata": {
        "id": "cfc52381"
      },
      "source": [
        "[![Open in Colab](https://colab.research.google.com/assets/colab-badge.svg)](https://colab.research.google.com/github/biodatlab/deep-learning-skooldio/blob/master/student_notebooks/02_handwritten_recognition.ipynb)\n",
        "\n",
        "## **Thai-digit handwritten classification with Pytorch**\n",
        "\n",
        "This notebook contains a hands-on code for Deep learning class \"Thai-digit handwritten classification with Pytorch\" by Skooldio"
      ]
    },
    {
      "cell_type": "markdown",
      "id": "3aa56f94",
      "metadata": {
        "id": "3aa56f94"
      },
      "source": [
        "## **Download and clean the dataset from the repository**\n",
        "\n",
        "- We have downloaded the data from https://github.com/kittinan/thai-handwriting-number by cloning the repository\n",
        "- Remove files that have character mismatch (as suggested by the the creator)\n",
        "- Then, we put the cleaned data at https://github.com/biodatlab/deep-learning-skooldio"
      ]
    },
    {
      "cell_type": "code",
      "source": [
        "!git clone https://github.com/biodatlab/deep-learning-skooldio"
      ],
      "metadata": {
        "id": "yGgZtqKx9Rei",
        "colab": {
          "base_uri": "https://localhost:8080/"
        },
        "outputId": "88dc90f6-8016-4bcb-abf9-1727581c208b"
      },
      "id": "yGgZtqKx9Rei",
      "execution_count": null,
      "outputs": [
        {
          "output_type": "stream",
          "name": "stdout",
          "text": [
            "Cloning into 'deep-learning-skooldio'...\n",
            "remote: Enumerating objects: 2064, done.\u001b[K\n",
            "remote: Counting objects: 100% (358/358), done.\u001b[K\n",
            "remote: Compressing objects: 100% (223/223), done.\u001b[K\n",
            "remote: Total 2064 (delta 194), reused 253 (delta 129), pack-reused 1706\u001b[K\n",
            "Receiving objects: 100% (2064/2064), 17.11 MiB | 22.40 MiB/s, done.\n",
            "Resolving deltas: 100% (205/205), done.\n"
          ]
        }
      ]
    },
    {
      "cell_type": "code",
      "execution_count": null,
      "id": "2ad2a443",
      "metadata": {
        "id": "2ad2a443"
      },
      "outputs": [],
      "source": [
        "import os # os: Operating system interactions (file and directory manipulation).\n",
        "import os.path as op # op: Alias for os.path, used for path-related operations.\n",
        "import shutil # shutil: High-level file operations (copy, move, delete).\n",
        "from glob import glob # glob: File and directory name pattern matching.\n",
        "from pathlib import Path # pathlib.Path: Object-oriented file system path representation.\n",
        "from tqdm.auto import tqdm # tqdm: Progress bars for tracking task completion."
      ]
    },
    {
      "cell_type": "code",
      "execution_count": null,
      "id": "64ce2573",
      "metadata": {
        "id": "64ce2573"
      },
      "outputs": [],
      "source": [
        "directory = \"deep-learning-skooldio/\"\n",
        "paths = glob(op.join(directory, \"thai-handwritten-dataset\", \"*\", \"*\"))"
      ]
    },
    {
      "cell_type": "code",
      "source": [
        "len(paths)"
      ],
      "metadata": {
        "colab": {
          "base_uri": "https://localhost:8080/"
        },
        "id": "GN2X3ZaRBEfl",
        "outputId": "73893cc6-c9c9-4d4a-c036-5e8d54335b7c"
      },
      "id": "GN2X3ZaRBEfl",
      "execution_count": null,
      "outputs": [
        {
          "output_type": "execute_result",
          "data": {
            "text/plain": [
              "1750"
            ]
          },
          "metadata": {},
          "execution_count": 4
        }
      ]
    },
    {
      "cell_type": "code",
      "source": [
        "paths"
      ],
      "metadata": {
        "id": "5LMdXXhsBIaY"
      },
      "id": "5LMdXXhsBIaY",
      "execution_count": null,
      "outputs": []
    },
    {
      "cell_type": "markdown",
      "source": [
        "**Important Note:**\n",
        "- The ordering of the data may differ between the video demonstrations and this code.\n",
        "- Your results may not match exactly with the results shown in the video.\n",
        "- Don't worry if your results differ; focus on understanding the code and concepts.\n",
        "- Continue with your learning journey and feel free to explore variations in the data."
      ],
      "metadata": {
        "id": "SDv8P3h1xBt_"
      },
      "id": "SDv8P3h1xBt_"
    },
    {
      "cell_type": "code",
      "source": [
        "paths[0]"
      ],
      "metadata": {
        "colab": {
          "base_uri": "https://localhost:8080/",
          "height": 53
        },
        "id": "0By5GgUjBWH6",
        "outputId": "e0a42122-fe69-4a1c-95d8-49d92505cdfe"
      },
      "id": "0By5GgUjBWH6",
      "execution_count": null,
      "outputs": [
        {
          "output_type": "execute_result",
          "data": {
            "text/plain": [
              "'deep-learning-skooldio/thai-handwritten-dataset/6/ae9006e5-764b-495c-ad9b-aea5df546eb9.png'"
            ],
            "application/vnd.google.colaboratory.intrinsic+json": {
              "type": "string"
            }
          },
          "metadata": {},
          "execution_count": 7
        }
      ]
    },
    {
      "cell_type": "code",
      "execution_count": null,
      "id": "964fdc70",
      "metadata": {
        "id": "964fdc70",
        "colab": {
          "base_uri": "https://localhost:8080/"
        },
        "outputId": "9e53b4f0-d143-475c-bf91-e7b303a19478"
      },
      "outputs": [
        {
          "output_type": "execute_result",
          "data": {
            "text/plain": [
              "Counter({'6': 175,\n",
              "         '0': 175,\n",
              "         '7': 175,\n",
              "         '5': 175,\n",
              "         '8': 175,\n",
              "         '2': 175,\n",
              "         '4': 175,\n",
              "         '1': 175,\n",
              "         '3': 175,\n",
              "         '9': 175})"
            ]
          },
          "metadata": {},
          "execution_count": 9
        }
      ],
      "source": [
        "# TODO: use Counter from collection to count the number, use Pathlib to get the parent folder name\n",
        "from collections import Counter\n",
        "Counter([Path(p).parent.name for p in paths])"
      ]
    },
    {
      "cell_type": "code",
      "execution_count": null,
      "id": "23eedef9",
      "metadata": {
        "id": "23eedef9"
      },
      "outputs": [],
      "source": [
        "# TODO: Use Pillow's Image to read and open one file\n",
        "from PIL import Image"
      ]
    },
    {
      "cell_type": "code",
      "source": [
        "idx =  400\n",
        "print(Path(paths[idx]).parent.name)\n",
        "Image.open(paths[idx])"
      ],
      "metadata": {
        "colab": {
          "base_uri": "https://localhost:8080/",
          "height": 334
        },
        "id": "gOze949XCH0X",
        "outputId": "1df0dada-7d8d-4323-cd8b-ab2ed9e0ac0b"
      },
      "id": "gOze949XCH0X",
      "execution_count": null,
      "outputs": [
        {
          "output_type": "stream",
          "name": "stdout",
          "text": [
            "7\n"
          ]
        },
        {
          "output_type": "execute_result",
          "data": {
            "text/plain": [
              "<PIL.PngImagePlugin.PngImageFile image mode=RGBA size=300x300>"
            ],
            "image/png": "[encoded data removed]"
          },
          "metadata": {},
          "execution_count": 11
        }
      ]
    },
    {
      "cell_type": "code",
      "execution_count": null,
      "id": "6aa0f5b4",
      "metadata": {
        "id": "6aa0f5b4"
      },
      "outputs": [],
      "source": [
        "# TODO: Use train_test_split to split image into 90% training and 10% validation\n",
        "from sklearn.model_selection import train_test_split"
      ]
    },
    {
      "cell_type": "code",
      "source": [
        "train_paths,validation_paths = train_test_split(paths,test_size=0.1,random_state=42)"
      ],
      "metadata": {
        "id": "RpWvJXIoCn1Q"
      },
      "id": "RpWvJXIoCn1Q",
      "execution_count": null,
      "outputs": []
    },
    {
      "cell_type": "code",
      "source": [
        "len(train_paths),len(validation_paths)"
      ],
      "metadata": {
        "colab": {
          "base_uri": "https://localhost:8080/"
        },
        "id": "bYltnp8cDD4O",
        "outputId": "faf6d4f5-3a6e-4487-a6bb-842ad88d734b"
      },
      "id": "bYltnp8cDD4O",
      "execution_count": null,
      "outputs": [
        {
          "output_type": "execute_result",
          "data": {
            "text/plain": [
              "(1575, 175)"
            ]
          },
          "metadata": {},
          "execution_count": 14
        }
      ]
    },
    {
      "cell_type": "code",
      "execution_count": null,
      "id": "6e56a41b",
      "metadata": {
        "id": "6e56a41b"
      },
      "outputs": [],
      "source": [
        "# Create directory\n",
        "for i in range(10):\n",
        "    os.makedirs(f\"data/train/{i}\", exist_ok=True)\n",
        "    os.makedirs(f\"data/validation/{i}\", exist_ok=True)"
      ]
    },
    {
      "cell_type": "code",
      "execution_count": null,
      "id": "fe1d237b",
      "metadata": {
        "id": "fe1d237b"
      },
      "outputs": [],
      "source": [
        "# Copy paths to directory\n",
        "def copy_to_destination(src_paths, dst_path):\n",
        "    \"\"\"\n",
        "    Copy list of src_paths to destination path ``dst_path``\n",
        "    \"\"\"\n",
        "    for path in tqdm(src_paths):\n",
        "        path = Path(path)\n",
        "        parent_dir = path.parent.name\n",
        "        shutil.copy(path, op.join(dst_path, parent_dir, path.name))"
      ]
    },
    {
      "cell_type": "code",
      "execution_count": null,
      "id": "af9064ae",
      "metadata": {
        "id": "af9064ae",
        "colab": {
          "base_uri": "https://localhost:8080/",
          "height": 81,
          "referenced_widgets": [
            "b09dea44f0fb48b5ac0a46b3c0338b37",
            "5b76f8800b2d4246b9577661f02729f0",
            "ee311908b3fa4916b71f226b106fcf3b",
            "a679e6299c464b7d9bf1bca6d67c5a0d",
            "ff696e51c56e4317821cc41c0aa9377c",
            "f97dfc6d6af848d3b80139a374d9a3d9",
            "a3b3f13bde6849c88f8184d468749d45",
            "1faa490bda954568b9b9fd48ade9f2c3",
            "e28f58afb919468ab7dbce00b78660f5",
            "0d0379bbdced48189bc16c22ce4f433d",
            "a425f3dd6bbf4f269bfa9df74c3d8cb3",
            "6f1a27b1e8584854b32fb609bbca910e",
            "204c87ac895c41a593d1fa385e251ee5",
            "09ac6f02bd1f43a486f531687841c1ba",
            "50dd7953c4ad477da0f242298e6b3d09",
            "e7880038457e4924b1ade9de01fcdbed",
            "d93673ee1d3e4a1ca48c9754da45e99d",
            "2574a15231fb41ec8058b1b3be9d6ef0",
            "0454f1506a464293bd6656c9913e0de1",
            "ed198fc4c8da4983978734bf752516e8",
            "46326c6b3faf42779a14e5d84ade46b0",
            "4ef50310da0b466397a4284c61e89963"
          ]
        },
        "outputId": "19e75a1d-dff2-4f1d-ef24-9b0360243f07"
      },
      "outputs": [
        {
          "output_type": "display_data",
          "data": {
            "text/plain": [
              "  0%|          | 0/1575 [00:00<?, ?it/s]"
            ],
            "application/vnd.jupyter.widget-view+json": {
              "version_major": 2,
              "version_minor": 0,
              "model_id": "b09dea44f0fb48b5ac0a46b3c0338b37"
            }
          },
          "metadata": {}
        },
        {
          "output_type": "display_data",
          "data": {
            "text/plain": [
              "  0%|          | 0/175 [00:00<?, ?it/s]"
            ],
            "application/vnd.jupyter.widget-view+json": {
              "version_major": 2,
              "version_minor": 0,
              "model_id": "6f1a27b1e8584854b32fb609bbca910e"
            }
          },
          "metadata": {}
        }
      ],
      "source": [
        "copy_to_destination(train_paths, \"data/train/\")\n",
        "copy_to_destination(validation_paths, \"data/validation/\")"
      ]
    },
    {
      "cell_type": "code",
      "execution_count": null,
      "id": "99aceff3",
      "metadata": {
        "id": "99aceff3",
        "colab": {
          "base_uri": "https://localhost:8080/"
        },
        "outputId": "f38db59d-7178-4606-befa-002d3582428b"
      },
      "outputs": [
        {
          "output_type": "execute_result",
          "data": {
            "text/plain": [
              "(1575, 175)"
            ]
          },
          "metadata": {},
          "execution_count": 18
        }
      ],
      "source": [
        "len(glob(\"data/train/*/*\")), len(glob(\"data/validation/*/*\"))"
      ]
    },
    {
      "cell_type": "markdown",
      "id": "ae55f494",
      "metadata": {
        "id": "ae55f494"
      },
      "source": [
        "## **Create a custom dataset and a dataloader**\n",
        "\n",
        "- We need 3 functions when creating a `Dataset` including `__init__` (typically contains input data and transform), `__len__` (length of the dataset), `__getitem__` (input index then return pair of input and label or input)"
      ]
    },
    {
      "cell_type": "code",
      "execution_count": null,
      "id": "d0b69d68",
      "metadata": {
        "id": "d0b69d68"
      },
      "outputs": [],
      "source": [
        "import torch\n",
        "from torch.utils.data import Dataset, DataLoader\n",
        "from torchvision import transforms\n",
        "import matplotlib.pyplot as plt"
      ]
    },
    {
      "cell_type": "code",
      "execution_count": null,
      "id": "2dbd4be3",
      "metadata": {
        "id": "2dbd4be3"
      },
      "outputs": [],
      "source": [
        "# Create image transform\n",
        "resize_transform = transforms.Resize((28,28))\n",
        "grayscale_transform = transforms.Grayscale()\n",
        "tensor_transform = transforms.ToTensor()"
      ]
    },
    {
      "cell_type": "code",
      "source": [
        "img = Image.open(paths[100])\n",
        "img"
      ],
      "metadata": {
        "colab": {
          "base_uri": "https://localhost:8080/",
          "height": 317
        },
        "id": "TIME3KQMEon7",
        "outputId": "1effd524-e3b8-4d6d-8266-fd9964463d0d"
      },
      "id": "TIME3KQMEon7",
      "execution_count": null,
      "outputs": [
        {
          "output_type": "execute_result",
          "data": {
            "text/plain": [
              "<PIL.PngImagePlugin.PngImageFile image mode=RGBA size=300x300>"
            ],
            "image/png": "[encoded data removed]"
          },
          "metadata": {},
          "execution_count": 23
        }
      ]
    },
    {
      "cell_type": "code",
      "source": [
        "img_tensor = tensor_transform(grayscale_transform(resize_transform(img)))\n",
        "img_tensor.shape"
      ],
      "metadata": {
        "colab": {
          "base_uri": "https://localhost:8080/"
        },
        "id": "ek02lKEoE0n4",
        "outputId": "51b7ac2f-4b65-44a7-8035-33bfe296263d"
      },
      "id": "ek02lKEoE0n4",
      "execution_count": null,
      "outputs": [
        {
          "output_type": "execute_result",
          "data": {
            "text/plain": [
              "torch.Size([1, 28, 28])"
            ]
          },
          "metadata": {},
          "execution_count": 27
        }
      ]
    },
    {
      "cell_type": "code",
      "source": [
        "transform = transforms.Compose([\n",
        "  transforms.Resize((28,28)),\n",
        "  transforms.Grayscale(),\n",
        "  transforms.ToTensor(),\n",
        "])"
      ],
      "metadata": {
        "id": "SprW4vbpFbLs"
      },
      "id": "SprW4vbpFbLs",
      "execution_count": null,
      "outputs": []
    },
    {
      "cell_type": "code",
      "execution_count": null,
      "id": "059beef8",
      "metadata": {
        "id": "059beef8",
        "colab": {
          "base_uri": "https://localhost:8080/",
          "height": 452
        },
        "outputId": "2addab67-0342-49c6-8581-379ad086fc4d"
      },
      "outputs": [
        {
          "output_type": "display_data",
          "data": {
            "text/plain": [
              "<Figure size 640x480 with 1 Axes>"
            ],
            "image/png": "[encoded data removed]"
          },
          "metadata": {}
        }
      ],
      "source": [
        "# Show image transform\n",
        "img_t = 1-transform(img).squeeze(0)\n",
        "plt.imshow(img_t,cmap=\"gray\")\n",
        "plt.title(Path(paths[100]).parent.name)\n",
        "plt.show()"
      ]
    },
    {
      "cell_type": "code",
      "execution_count": null,
      "id": "09eb4140",
      "metadata": {
        "id": "09eb4140"
      },
      "outputs": [],
      "source": [
        "class ThaiDigitDataset(Dataset):\n",
        "    def __init__(self, img_dir: str, transform=None):\n",
        "        # TODO: Input img_dir, create a relatioship between image path and label\n",
        "        self.img_dir = img_dir\n",
        "        self.transform = transform\n",
        "        self.img_labels = [(p, Path(p).parent.name) for p in glob(op.join(img_dir,\"*\",\"*\"))]\n",
        "\n",
        "\n",
        "    def __len__(self):\n",
        "        # TODO: Find length of the dataset\n",
        "        return len(self.img_labels)\n",
        "\n",
        "    def __getitem__(self, idx):\n",
        "        # TODO:\n",
        "        image_path,label = self.img_labels[idx]\n",
        "        label = int(label)\n",
        "        image = Image.open(image_path)\n",
        "        if self.transform is not None:\n",
        "          image =  1-self.transform(image)\n",
        "        return image,label"
      ]
    },
    {
      "cell_type": "code",
      "execution_count": null,
      "id": "f1175f91",
      "metadata": {
        "id": "f1175f91"
      },
      "outputs": [],
      "source": [
        "# TODO: Create a Dataset and DataLoader\n",
        "train_thaidigit_dataset = ThaiDigitDataset(\"data/train/\",transform=transform)\n",
        "validation_thaidigit_dataset = ThaiDigitDataset(\"data/validation/\",transform=transform)"
      ]
    },
    {
      "cell_type": "code",
      "source": [
        "train_thaidigit_dataset[10]"
      ],
      "metadata": {
        "colab": {
          "base_uri": "https://localhost:8080/"
        },
        "id": "2Rw_ZRPnJJtG",
        "outputId": "112c6a70-d13d-485f-bb60-510f7ce28f01"
      },
      "id": "2Rw_ZRPnJJtG",
      "execution_count": null,
      "outputs": [
        {
          "output_type": "execute_result",
          "data": {
            "text/plain": [
              "(tensor([[[0.0000, 0.0000, 0.0000, 0.0000, 0.0000, 0.0000, 0.0000, 0.0000,\n",
              "           0.0000, 0.0000, 0.0000, 0.0000, 0.0000, 0.0000, 0.0000, 0.0000,\n",
              "           0.0000, 0.0000, 0.0000, 0.0000, 0.0000, 0.0000, 0.0000, 0.0000,\n",
              "           0.0000, 0.0000, 0.0000, 0.0000],\n",
              "          [0.0000, 0.0000, 0.0000, 0.0000, 0.0000, 0.0000, 0.0000, 0.0000,\n",
              "           0.0000, 0.0000, 0.0000, 0.0000, 0.0000, 0.0000, 0.0000, 0.0000,\n",
              "           0.0000, 0.0000, 0.0000, 0.0000, 0.0000, 0.0000, 0.0000, 0.0000,\n",
              "           0.0000, 0.0000, 0.0000, 0.0000],\n",
              "          [0.0000, 0.0784, 0.1725, 0.0196, 0.0000, 0.0000, 0.0000, 0.0000,\n",
              "           0.0000, 0.0000, 0.0000, 0.0000, 0.0000, 0.0000, 0.0000, 0.0000,\n",
              "           0.0000, 0.0000, 0.0000, 0.0000, 0.0000, 0.0000, 0.0000, 0.0000,\n",
              "           0.0000, 0.0000, 0.0000, 0.0000],\n",
              "          [0.0000, 0.4039, 0.8824, 0.5451, 0.1569, 0.0118, 0.0000, 0.0000,\n",
              "           0.0000, 0.0000, 0.0000, 0.0000, 0.0000, 0.0000, 0.0000, 0.0000,\n",
              "           0.0000, 0.0000, 0.0000, 0.0000, 0.0000, 0.0000, 0.0000, 0.0000,\n",
              "           0.0000, 0.0000, 0.0000, 0.0000],\n",
              "          [0.0000, 0.1216, 0.5882, 0.9059, 0.8588, 0.5176, 0.1765, 0.0157,\n",
              "           0.0000, 0.0000, 0.0000, 0.0000, 0.0000, 0.0000, 0.0000, 0.0000,\n",
              "           0.0000, 0.0000, 0.0000, 0.0000, 0.0000, 0.0000, 0.0000, 0.0000,\n",
              "           0.0000, 0.0000, 0.0000, 0.0000],\n",
              "          [0.0000, 0.0000, 0.0275, 0.2392, 0.6431, 0.9059, 0.8784, 0.5412,\n",
              "           0.1569, 0.0078, 0.0000, 0.0000, 0.0000, 0.0000, 0.0000, 0.0000,\n",
              "           0.0000, 0.0000, 0.0000, 0.0000, 0.0000, 0.0000, 0.0000, 0.0000,\n",
              "           0.0000, 0.0000, 0.0000, 0.0000],\n",
              "          [0.0000, 0.0000, 0.0000, 0.0000, 0.0353, 0.2157, 0.5961, 0.9020,\n",
              "           0.8431, 0.4118, 0.0471, 0.0000, 0.0000, 0.0000, 0.0000, 0.0000,\n",
              "           0.0000, 0.0000, 0.0000, 0.0000, 0.0000, 0.0000, 0.0000, 0.0000,\n",
              "           0.0000, 0.0000, 0.0000, 0.0000],\n",
              "          [0.0000, 0.0000, 0.0000, 0.0000, 0.0000, 0.0000, 0.0235, 0.2353,\n",
              "           0.6902, 0.9333, 0.5216, 0.0353, 0.0000, 0.0000, 0.0000, 0.0000,\n",
              "           0.0000, 0.0000, 0.0000, 0.0000, 0.0000, 0.0000, 0.0000, 0.0000,\n",
              "           0.0000, 0.0000, 0.0000, 0.0000],\n",
              "          [0.0000, 0.0000, 0.0000, 0.0000, 0.0000, 0.0000, 0.0000, 0.0000,\n",
              "           0.0667, 0.5529, 0.9294, 0.3804, 0.0078, 0.0000, 0.0039, 0.0863,\n",
              "           0.1843, 0.1608, 0.0353, 0.0000, 0.0000, 0.0000, 0.0000, 0.0000,\n",
              "           0.0000, 0.0000, 0.0000, 0.0000],\n",
              "          [0.0000, 0.0000, 0.0000, 0.0000, 0.0000, 0.0000, 0.0000, 0.0000,\n",
              "           0.0000, 0.0824, 0.7216, 0.8314, 0.1529, 0.0392, 0.3961, 0.7961,\n",
              "           0.9137, 0.8941, 0.6353, 0.1647, 0.0000, 0.0000, 0.0000, 0.0000,\n",
              "           0.0000, 0.0000, 0.0000, 0.0000],\n",
              "          [0.0000, 0.0000, 0.0000, 0.0000, 0.0000, 0.0000, 0.0000, 0.0000,\n",
              "           0.0000, 0.0000, 0.2549, 0.9020, 0.6353, 0.5490, 0.9333, 0.7255,\n",
              "           0.4235, 0.5294, 0.8863, 0.7765, 0.1529, 0.0000, 0.0000, 0.0000,\n",
              "           0.0000, 0.0000, 0.0000, 0.0000],\n",
              "          [0.0000, 0.0000, 0.0000, 0.0000, 0.0000, 0.0000, 0.0000, 0.0000,\n",
              "           0.0000, 0.0000, 0.0196, 0.5294, 0.9725, 0.9569, 0.5647, 0.0784,\n",
              "           0.0000, 0.0118, 0.2980, 0.9098, 0.5451, 0.0118, 0.0000, 0.0000,\n",
              "           0.0000, 0.0000, 0.0000, 0.0000],\n",
              "          [0.0000, 0.0000, 0.0000, 0.0000, 0.0000, 0.0000, 0.0000, 0.0000,\n",
              "           0.0000, 0.0000, 0.0000, 0.1843, 0.9059, 0.7686, 0.0784, 0.0000,\n",
              "           0.0000, 0.0000, 0.0275, 0.6471, 0.8118, 0.0824, 0.0000, 0.0000,\n",
              "           0.0000, 0.0000, 0.0000, 0.0000],\n",
              "          [0.0000, 0.0000, 0.0000, 0.0000, 0.0000, 0.0000, 0.0000, 0.0000,\n",
              "           0.0000, 0.0000, 0.0000, 0.0627, 0.7765, 0.6980, 0.0275, 0.0000,\n",
              "           0.0000, 0.0000, 0.0000, 0.4706, 0.8863, 0.1412, 0.0000, 0.0000,\n",
              "           0.0000, 0.0000, 0.0000, 0.0000],\n",
              "          [0.0000, 0.0000, 0.0000, 0.0000, 0.0000, 0.0000, 0.0000, 0.0000,\n",
              "           0.0000, 0.0000, 0.0000, 0.0118, 0.3333, 0.3294, 0.0078, 0.0000,\n",
              "           0.0000, 0.0000, 0.0039, 0.5569, 0.8471, 0.1020, 0.0000, 0.0000,\n",
              "           0.0000, 0.0000, 0.0000, 0.0000],\n",
              "          [0.0000, 0.0000, 0.0000, 0.0000, 0.0000, 0.0000, 0.0000, 0.0000,\n",
              "           0.0000, 0.0000, 0.0000, 0.0000, 0.0000, 0.0000, 0.0000, 0.0000,\n",
              "           0.0000, 0.0000, 0.0235, 0.6784, 0.7647, 0.0510, 0.0000, 0.0000,\n",
              "           0.0000, 0.0000, 0.0000, 0.0000],\n",
              "          [0.0000, 0.0000, 0.0000, 0.0000, 0.0000, 0.0000, 0.0000, 0.0000,\n",
              "           0.0000, 0.0000, 0.0000, 0.0000, 0.0000, 0.0000, 0.0000, 0.0000,\n",
              "           0.0000, 0.0000, 0.0706, 0.7922, 0.6549, 0.0196, 0.0000, 0.0000,\n",
              "           0.0000, 0.0000, 0.0000, 0.0000],\n",
              "          [0.0000, 0.0000, 0.0000, 0.0000, 0.0000, 0.0000, 0.0000, 0.0000,\n",
              "           0.0000, 0.0000, 0.0000, 0.0000, 0.0000, 0.0000, 0.0000, 0.0000,\n",
              "           0.0000, 0.0000, 0.1804, 0.9020, 0.4588, 0.0000, 0.0000, 0.0000,\n",
              "           0.0000, 0.0000, 0.0000, 0.0000],\n",
              "          [0.0000, 0.0000, 0.0000, 0.0000, 0.0000, 0.0000, 0.0000, 0.0000,\n",
              "           0.0000, 0.0000, 0.0000, 0.0000, 0.0000, 0.0000, 0.0000, 0.0000,\n",
              "           0.0000, 0.0000, 0.3922, 0.9333, 0.2549, 0.0000, 0.0000, 0.0000,\n",
              "           0.0000, 0.0000, 0.0000, 0.0000],\n",
              "          [0.0000, 0.0000, 0.0000, 0.0000, 0.0000, 0.0000, 0.0000, 0.0000,\n",
              "           0.0000, 0.0000, 0.0000, 0.0000, 0.0000, 0.0000, 0.0039, 0.0196,\n",
              "           0.0039, 0.0392, 0.6980, 0.7804, 0.0745, 0.0000, 0.0000, 0.0000,\n",
              "           0.0000, 0.0000, 0.0000, 0.0000],\n",
              "          [0.0000, 0.0000, 0.0000, 0.0000, 0.0000, 0.0000, 0.0000, 0.0000,\n",
              "           0.0000, 0.0000, 0.0000, 0.0000, 0.0000, 0.0549, 0.4275, 0.6745,\n",
              "           0.5059, 0.3373, 0.9059, 0.4824, 0.0039, 0.0000, 0.0000, 0.0000,\n",
              "           0.0000, 0.0000, 0.0000, 0.0000],\n",
              "          [0.0000, 0.0000, 0.0000, 0.0000, 0.0000, 0.0000, 0.0000, 0.0000,\n",
              "           0.0000, 0.0000, 0.0000, 0.0000, 0.0196, 0.5137, 0.9412, 0.8118,\n",
              "           0.9176, 0.9333, 0.8980, 0.1922, 0.0000, 0.0000, 0.0000, 0.0000,\n",
              "           0.0000, 0.0000, 0.0000, 0.0000],\n",
              "          [0.0000, 0.0000, 0.0000, 0.0000, 0.0000, 0.0000, 0.0000, 0.0000,\n",
              "           0.0000, 0.0000, 0.0000, 0.0000, 0.1059, 0.8471, 0.6706, 0.0941,\n",
              "           0.3961, 0.9529, 0.6353, 0.0275, 0.0000, 0.0000, 0.0000, 0.0000,\n",
              "           0.0000, 0.0000, 0.0000, 0.0000],\n",
              "          [0.0000, 0.0000, 0.0000, 0.0000, 0.0000, 0.0000, 0.0000, 0.0000,\n",
              "           0.0000, 0.0000, 0.0000, 0.0000, 0.0667, 0.7608, 0.7843, 0.2863,\n",
              "           0.7216, 0.8706, 0.2157, 0.0000, 0.0000, 0.0000, 0.0000, 0.0000,\n",
              "           0.0000, 0.0000, 0.0000, 0.0000],\n",
              "          [0.0000, 0.0000, 0.0000, 0.0000, 0.0000, 0.0000, 0.0000, 0.0000,\n",
              "           0.0000, 0.0000, 0.0000, 0.0000, 0.0039, 0.3098, 0.8863, 0.9412,\n",
              "           0.8941, 0.3647, 0.0078, 0.0000, 0.0000, 0.0000, 0.0000, 0.0000,\n",
              "           0.0000, 0.0000, 0.0000, 0.0000],\n",
              "          [0.0000, 0.0000, 0.0000, 0.0000, 0.0000, 0.0000, 0.0000, 0.0000,\n",
              "           0.0000, 0.0000, 0.0000, 0.0000, 0.0000, 0.0157, 0.2235, 0.4157,\n",
              "           0.2235, 0.0157, 0.0000, 0.0000, 0.0000, 0.0000, 0.0000, 0.0000,\n",
              "           0.0000, 0.0000, 0.0000, 0.0000],\n",
              "          [0.0000, 0.0000, 0.0000, 0.0000, 0.0000, 0.0000, 0.0000, 0.0000,\n",
              "           0.0000, 0.0000, 0.0000, 0.0000, 0.0000, 0.0000, 0.0000, 0.0000,\n",
              "           0.0000, 0.0000, 0.0000, 0.0000, 0.0000, 0.0000, 0.0000, 0.0000,\n",
              "           0.0000, 0.0000, 0.0000, 0.0000],\n",
              "          [0.0000, 0.0000, 0.0000, 0.0000, 0.0000, 0.0000, 0.0000, 0.0000,\n",
              "           0.0000, 0.0000, 0.0000, 0.0000, 0.0000, 0.0000, 0.0000, 0.0000,\n",
              "           0.0000, 0.0000, 0.0000, 0.0000, 0.0000, 0.0000, 0.0000, 0.0000,\n",
              "           0.0000, 0.0000, 0.0000, 0.0000]]]),\n",
              " 6)"
            ]
          },
          "metadata": {},
          "execution_count": 40
        }
      ]
    },
    {
      "cell_type": "code",
      "source": [
        "train_loader = DataLoader(train_thaidigit_dataset,batch_size=16,shuffle=True)\n",
        "val_loader = DataLoader(validation_thaidigit_dataset,batch_size=16,shuffle=False)"
      ],
      "metadata": {
        "id": "lXpYtCmzJv-v"
      },
      "id": "lXpYtCmzJv-v",
      "execution_count": null,
      "outputs": []
    },
    {
      "cell_type": "code",
      "execution_count": null,
      "id": "24c5be14",
      "metadata": {
        "id": "24c5be14"
      },
      "outputs": [],
      "source": [
        "# TODO: Use `next(iter(data_loader))` to load an example batch\n",
        "images, labels = next(iter(train_loader))"
      ]
    },
    {
      "cell_type": "code",
      "execution_count": null,
      "id": "4750f658",
      "metadata": {
        "id": "4750f658",
        "colab": {
          "base_uri": "https://localhost:8080/"
        },
        "outputId": "4ac50be6-22cd-4951-f059-ad61bb881d45"
      },
      "outputs": [
        {
          "output_type": "execute_result",
          "data": {
            "text/plain": [
              "(torch.Size([16, 1, 28, 28]), torch.Size([16]))"
            ]
          },
          "metadata": {},
          "execution_count": 44
        }
      ],
      "source": [
        "# TODO: Check the shape of the batch\n",
        "images.shape,labels.shape"
      ]
    },
    {
      "cell_type": "markdown",
      "id": "275542ac",
      "metadata": {
        "id": "275542ac"
      },
      "source": [
        "## **Create the model**"
      ]
    },
    {
      "cell_type": "code",
      "execution_count": null,
      "id": "abbd30d0",
      "metadata": {
        "id": "abbd30d0"
      },
      "outputs": [],
      "source": [
        "import torch.nn as nn\n",
        "import torch.nn.functional as F\n",
        "\n",
        "class ThaiDigitNet(nn.Module):\n",
        "    def __init__(self):\n",
        "        super(ThaiDigitNet, self).__init__()\n",
        "        # TODO: Create Linear (Dense) Neural network layers\n",
        "        self.fc1 = nn.Linear(28*28,100)\n",
        "        self.fc2 = nn.Linear(100,10)\n",
        "\n",
        "    def forward(self, x):\n",
        "        # TODO: Write a forward pass\n",
        "        x = x.view(-1,28*28)\n",
        "        x = self.fc1(x)\n",
        "        x = F.relu(x)\n",
        "        x = self.fc2(x)\n",
        "        return x"
      ]
    },
    {
      "cell_type": "code",
      "execution_count": null,
      "id": "f31a9c8c",
      "metadata": {
        "id": "f31a9c8c"
      },
      "outputs": [],
      "source": [
        "# TODO: Try passing an input to the model\n",
        "net = ThaiDigitNet()"
      ]
    },
    {
      "cell_type": "code",
      "source": [
        "pred = net(images)"
      ],
      "metadata": {
        "id": "6J4tPpeVL5bc"
      },
      "id": "6J4tPpeVL5bc",
      "execution_count": null,
      "outputs": []
    },
    {
      "cell_type": "code",
      "source": [
        "pred.shape"
      ],
      "metadata": {
        "colab": {
          "base_uri": "https://localhost:8080/"
        },
        "id": "3hrkeDN5L_Lx",
        "outputId": "4cdbdf8a-90c0-40be-f827-61de8f819671"
      },
      "id": "3hrkeDN5L_Lx",
      "execution_count": null,
      "outputs": [
        {
          "output_type": "execute_result",
          "data": {
            "text/plain": [
              "torch.Size([16, 10])"
            ]
          },
          "metadata": {},
          "execution_count": 48
        }
      ]
    },
    {
      "cell_type": "code",
      "source": [
        "labels"
      ],
      "metadata": {
        "id": "yBYqGKLsMQ_m",
        "outputId": "a93a4ebc-d70f-46f7-8d4e-840bfc091542",
        "colab": {
          "base_uri": "https://localhost:8080/"
        }
      },
      "id": "yBYqGKLsMQ_m",
      "execution_count": null,
      "outputs": [
        {
          "output_type": "execute_result",
          "data": {
            "text/plain": [
              "tensor([7, 2, 4, 9, 1, 4, 8, 0, 3, 9, 7, 2, 0, 4, 3, 0])"
            ]
          },
          "metadata": {},
          "execution_count": 50
        }
      ]
    },
    {
      "cell_type": "code",
      "execution_count": null,
      "id": "fc1b4247",
      "metadata": {
        "id": "fc1b4247",
        "colab": {
          "base_uri": "https://localhost:8080/"
        },
        "outputId": "fede19a5-3d62-4178-d804-eb803fc178e8"
      },
      "outputs": [
        {
          "output_type": "execute_result",
          "data": {
            "text/plain": [
              "tensor([1, 1, 1, 1, 1, 1, 1, 1, 1, 1, 1, 1, 1, 1, 3, 1])"
            ]
          },
          "metadata": {},
          "execution_count": 49
        }
      ],
      "source": [
        "# TODO: Predict the digit from the model before training (the result should not be good yet since the model is not trained)\n",
        "pred.argmax(dim=1)"
      ]
    },
    {
      "cell_type": "markdown",
      "id": "f0455ef9",
      "metadata": {
        "id": "f0455ef9"
      },
      "source": [
        "## **Train the model**\n",
        "\n",
        "**Note for loss function**\n",
        "- `CrossEntropyLoss` computes the cross entropy loss between logits and target. So we don't need to apply softmax to the output of the model.\n",
        "- This is equivalent to the combination of applying `LogSoftmax` at the last layer and use `NLLLoss` as a loss function."
      ]
    },
    {
      "cell_type": "code",
      "execution_count": null,
      "id": "20e1525e",
      "metadata": {
        "id": "20e1525e"
      },
      "outputs": [],
      "source": [
        "# TODO: Create cross entropy loss function, SGD optimizer, and its learning rate\n",
        "\n"
      ]
    },
    {
      "cell_type": "code",
      "source": [
        "# TODO: Single pass model and calculate loss\n"
      ],
      "metadata": {
        "id": "NJHrWdoo74Dn"
      },
      "id": "NJHrWdoo74Dn",
      "execution_count": null,
      "outputs": []
    },
    {
      "cell_type": "code",
      "source": [
        "for epoch in range(n_epochs):\n",
        "    # TODO: Write a training loop\n",
        "    # TODO: Print the train loss every 100 steps\n",
        "    net.train()\n",
        "\n",
        "\n",
        "    # TODO: Write a validation loop\n",
        "    # TODO: Print the validation loss and accuracy every epoch"
      ],
      "metadata": {
        "id": "CCyCGNvQ7_Ah"
      },
      "id": "CCyCGNvQ7_Ah",
      "execution_count": null,
      "outputs": []
    },
    {
      "cell_type": "markdown",
      "source": [
        "## **Save the model**"
      ],
      "metadata": {
        "id": "mKOoYEEW835t"
      },
      "id": "mKOoYEEW835t"
    },
    {
      "cell_type": "code",
      "source": [
        "net.state_dict()"
      ],
      "metadata": {
        "id": "L9Vgiva888NV"
      },
      "id": "L9Vgiva888NV",
      "execution_count": null,
      "outputs": []
    },
    {
      "cell_type": "code",
      "source": [
        "net.state_dict()[\"fc1.weight\"].shape, net.state_dict()[\"fc1.bias\"].shape"
      ],
      "metadata": {
        "id": "BDgsASPP9FrZ"
      },
      "id": "BDgsASPP9FrZ",
      "execution_count": null,
      "outputs": []
    },
    {
      "cell_type": "code",
      "source": [
        "save_path = \"thai_digit.pth\"\n",
        "torch.save(net.state_dict(), save_path)"
      ],
      "metadata": {
        "id": "RU1W8BYf9JNi"
      },
      "id": "RU1W8BYf9JNi",
      "execution_count": null,
      "outputs": []
    }
  ],
  "metadata": {
    "accelerator": "GPU",
    "colab": {
      "provenance": [],
      "gpuType": "T4",
      "include_colab_link": true
    },
    "kernelspec": {
      "display_name": "Python 3",
      "name": "python3"
    },
    "language_info": {
      "codemirror_mode": {
        "name": "ipython",
        "version": 3
      },
      "file_extension": ".py",
      "mimetype": "text/x-python",
      "name": "python",
      "nbconvert_exporter": "python",
      "pygments_lexer": "ipython3",
      "version": "3.9.6"
    },
    "vscode": {
      "interpreter": {
        "hash": "31f2aee4e71d21fbe5cf8b01ff0e069b9275f58929596ceb00d14d90e3e16cd6"
      }
    },
    "widgets": {
      "application/vnd.jupyter.widget-state+json": {
        "b09dea44f0fb48b5ac0a46b3c0338b37": {
          "model_module": "@jupyter-widgets/controls",
          "model_name": "HBoxModel",
          "model_module_version": "1.5.0",
          "state": {
            "_dom_classes": [],
            "_model_module": "@jupyter-widgets/controls",
            "_model_module_version": "1.5.0",
            "_model_name": "HBoxModel",
            "_view_count": null,
            "_view_module": "@jupyter-widgets/controls",
            "_view_module_version": "1.5.0",
            "_view_name": "HBoxView",
            "box_style": "",
            "children": [
              "IPY_MODEL_5b76f8800b2d4246b9577661f02729f0",
              "IPY_MODEL_ee311908b3fa4916b71f226b106fcf3b",
              "IPY_MODEL_a679e6299c464b7d9bf1bca6d67c5a0d"
            ],
            "layout": "IPY_MODEL_ff696e51c56e4317821cc41c0aa9377c"
          }
        },
        "5b76f8800b2d4246b9577661f02729f0": {
          "model_module": "@jupyter-widgets/controls",
          "model_name": "HTMLModel",
          "model_module_version": "1.5.0",
          "state": {
            "_dom_classes": [],
            "_model_module": "@jupyter-widgets/controls",
            "_model_module_version": "1.5.0",
            "_model_name": "HTMLModel",
            "_view_count": null,
            "_view_module": "@jupyter-widgets/controls",
            "_view_module_version": "1.5.0",
            "_view_name": "HTMLView",
            "description": "",
            "description_tooltip": null,
            "layout": "IPY_MODEL_f97dfc6d6af848d3b80139a374d9a3d9",
            "placeholder": "​",
            "style": "IPY_MODEL_a3b3f13bde6849c88f8184d468749d45",
            "value": "100%"
          }
        },
        "ee311908b3fa4916b71f226b106fcf3b": {
          "model_module": "@jupyter-widgets/controls",
          "model_name": "FloatProgressModel",
          "model_module_version": "1.5.0",
          "state": {
            "_dom_classes": [],
            "_model_module": "@jupyter-widgets/controls",
            "_model_module_version": "1.5.0",
            "_model_name": "FloatProgressModel",
            "_view_count": null,
            "_view_module": "@jupyter-widgets/controls",
            "_view_module_version": "1.5.0",
            "_view_name": "ProgressView",
            "bar_style": "success",
            "description": "",
            "description_tooltip": null,
            "layout": "IPY_MODEL_1faa490bda954568b9b9fd48ade9f2c3",
            "max": 1575,
            "min": 0,
            "orientation": "horizontal",
            "style": "IPY_MODEL_e28f58afb919468ab7dbce00b78660f5",
            "value": 1575
          }
        },
        "a679e6299c464b7d9bf1bca6d67c5a0d": {
          "model_module": "@jupyter-widgets/controls",
          "model_name": "HTMLModel",
          "model_module_version": "1.5.0",
          "state": {
            "_dom_classes": [],
            "_model_module": "@jupyter-widgets/controls",
            "_model_module_version": "1.5.0",
            "_model_name": "HTMLModel",
            "_view_count": null,
            "_view_module": "@jupyter-widgets/controls",
            "_view_module_version": "1.5.0",
            "_view_name": "HTMLView",
            "description": "",
            "description_tooltip": null,
            "layout": "IPY_MODEL_0d0379bbdced48189bc16c22ce4f433d",
            "placeholder": "​",
            "style": "IPY_MODEL_a425f3dd6bbf4f269bfa9df74c3d8cb3",
            "value": " 1575/1575 [00:00&lt;00:00, 4999.79it/s]"
          }
        },
        "ff696e51c56e4317821cc41c0aa9377c": {
          "model_module": "@jupyter-widgets/base",
          "model_name": "LayoutModel",
          "model_module_version": "1.2.0",
          "state": {
            "_model_module": "@jupyter-widgets/base",
            "_model_module_version": "1.2.0",
            "_model_name": "LayoutModel",
            "_view_count": null,
            "_view_module": "@jupyter-widgets/base",
            "_view_module_version": "1.2.0",
            "_view_name": "LayoutView",
            "align_content": null,
            "align_items": null,
            "align_self": null,
            "border": null,
            "bottom": null,
            "display": null,
            "flex": null,
            "flex_flow": null,
            "grid_area": null,
            "grid_auto_columns": null,
            "grid_auto_flow": null,
            "grid_auto_rows": null,
            "grid_column": null,
            "grid_gap": null,
            "grid_row": null,
            "grid_template_areas": null,
            "grid_template_columns": null,
            "grid_template_rows": null,
            "height": null,
            "justify_content": null,
            "justify_items": null,
            "left": null,
            "margin": null,
            "max_height": null,
            "max_width": null,
            "min_height": null,
            "min_width": null,
            "object_fit": null,
            "object_position": null,
            "order": null,
            "overflow": null,
            "overflow_x": null,
            "overflow_y": null,
            "padding": null,
            "right": null,
            "top": null,
            "visibility": null,
            "width": null
          }
        },
        "f97dfc6d6af848d3b80139a374d9a3d9": {
          "model_module": "@jupyter-widgets/base",
          "model_name": "LayoutModel",
          "model_module_version": "1.2.0",
          "state": {
            "_model_module": "@jupyter-widgets/base",
            "_model_module_version": "1.2.0",
            "_model_name": "LayoutModel",
            "_view_count": null,
            "_view_module": "@jupyter-widgets/base",
            "_view_module_version": "1.2.0",
            "_view_name": "LayoutView",
            "align_content": null,
            "align_items": null,
            "align_self": null,
            "border": null,
            "bottom": null,
            "display": null,
            "flex": null,
            "flex_flow": null,
            "grid_area": null,
            "grid_auto_columns": null,
            "grid_auto_flow": null,
            "grid_auto_rows": null,
            "grid_column": null,
            "grid_gap": null,
            "grid_row": null,
            "grid_template_areas": null,
            "grid_template_columns": null,
            "grid_template_rows": null,
            "height": null,
            "justify_content": null,
            "justify_items": null,
            "left": null,
            "margin": null,
            "max_height": null,
            "max_width": null,
            "min_height": null,
            "min_width": null,
            "object_fit": null,
            "object_position": null,
            "order": null,
            "overflow": null,
            "overflow_x": null,
            "overflow_y": null,
            "padding": null,
            "right": null,
            "top": null,
            "visibility": null,
            "width": null
          }
        },
        "a3b3f13bde6849c88f8184d468749d45": {
          "model_module": "@jupyter-widgets/controls",
          "model_name": "DescriptionStyleModel",
          "model_module_version": "1.5.0",
          "state": {
            "_model_module": "@jupyter-widgets/controls",
            "_model_module_version": "1.5.0",
            "_model_name": "DescriptionStyleModel",
            "_view_count": null,
            "_view_module": "@jupyter-widgets/base",
            "_view_module_version": "1.2.0",
            "_view_name": "StyleView",
            "description_width": ""
          }
        },
        "1faa490bda954568b9b9fd48ade9f2c3": {
          "model_module": "@jupyter-widgets/base",
          "model_name": "LayoutModel",
          "model_module_version": "1.2.0",
          "state": {
            "_model_module": "@jupyter-widgets/base",
            "_model_module_version": "1.2.0",
            "_model_name": "LayoutModel",
            "_view_count": null,
            "_view_module": "@jupyter-widgets/base",
            "_view_module_version": "1.2.0",
            "_view_name": "LayoutView",
            "align_content": null,
            "align_items": null,
            "align_self": null,
            "border": null,
            "bottom": null,
            "display": null,
            "flex": null,
            "flex_flow": null,
            "grid_area": null,
            "grid_auto_columns": null,
            "grid_auto_flow": null,
            "grid_auto_rows": null,
            "grid_column": null,
            "grid_gap": null,
            "grid_row": null,
            "grid_template_areas": null,
            "grid_template_columns": null,
            "grid_template_rows": null,
            "height": null,
            "justify_content": null,
            "justify_items": null,
            "left": null,
            "margin": null,
            "max_height": null,
            "max_width": null,
            "min_height": null,
            "min_width": null,
            "object_fit": null,
            "object_position": null,
            "order": null,
            "overflow": null,
            "overflow_x": null,
            "overflow_y": null,
            "padding": null,
            "right": null,
            "top": null,
            "visibility": null,
            "width": null
          }
        },
        "e28f58afb919468ab7dbce00b78660f5": {
          "model_module": "@jupyter-widgets/controls",
          "model_name": "ProgressStyleModel",
          "model_module_version": "1.5.0",
          "state": {
            "_model_module": "@jupyter-widgets/controls",
            "_model_module_version": "1.5.0",
            "_model_name": "ProgressStyleModel",
            "_view_count": null,
            "_view_module": "@jupyter-widgets/base",
            "_view_module_version": "1.2.0",
            "_view_name": "StyleView",
            "bar_color": null,
            "description_width": ""
          }
        },
        "0d0379bbdced48189bc16c22ce4f433d": {
          "model_module": "@jupyter-widgets/base",
          "model_name": "LayoutModel",
          "model_module_version": "1.2.0",
          "state": {
            "_model_module": "@jupyter-widgets/base",
            "_model_module_version": "1.2.0",
            "_model_name": "LayoutModel",
            "_view_count": null,
            "_view_module": "@jupyter-widgets/base",
            "_view_module_version": "1.2.0",
            "_view_name": "LayoutView",
            "align_content": null,
            "align_items": null,
            "align_self": null,
            "border": null,
            "bottom": null,
            "display": null,
            "flex": null,
            "flex_flow": null,
            "grid_area": null,
            "grid_auto_columns": null,
            "grid_auto_flow": null,
            "grid_auto_rows": null,
            "grid_column": null,
            "grid_gap": null,
            "grid_row": null,
            "grid_template_areas": null,
            "grid_template_columns": null,
            "grid_template_rows": null,
            "height": null,
            "justify_content": null,
            "justify_items": null,
            "left": null,
            "margin": null,
            "max_height": null,
            "max_width": null,
            "min_height": null,
            "min_width": null,
            "object_fit": null,
            "object_position": null,
            "order": null,
            "overflow": null,
            "overflow_x": null,
            "overflow_y": null,
            "padding": null,
            "right": null,
            "top": null,
            "visibility": null,
            "width": null
          }
        },
        "a425f3dd6bbf4f269bfa9df74c3d8cb3": {
          "model_module": "@jupyter-widgets/controls",
          "model_name": "DescriptionStyleModel",
          "model_module_version": "1.5.0",
          "state": {
            "_model_module": "@jupyter-widgets/controls",
            "_model_module_version": "1.5.0",
            "_model_name": "DescriptionStyleModel",
            "_view_count": null,
            "_view_module": "@jupyter-widgets/base",
            "_view_module_version": "1.2.0",
            "_view_name": "StyleView",
            "description_width": ""
          }
        },
        "6f1a27b1e8584854b32fb609bbca910e": {
          "model_module": "@jupyter-widgets/controls",
          "model_name": "HBoxModel",
          "model_module_version": "1.5.0",
          "state": {
            "_dom_classes": [],
            "_model_module": "@jupyter-widgets/controls",
            "_model_module_version": "1.5.0",
            "_model_name": "HBoxModel",
            "_view_count": null,
            "_view_module": "@jupyter-widgets/controls",
            "_view_module_version": "1.5.0",
            "_view_name": "HBoxView",
            "box_style": "",
            "children": [
              "IPY_MODEL_204c87ac895c41a593d1fa385e251ee5",
              "IPY_MODEL_09ac6f02bd1f43a486f531687841c1ba",
              "IPY_MODEL_50dd7953c4ad477da0f242298e6b3d09"
            ],
            "layout": "IPY_MODEL_e7880038457e4924b1ade9de01fcdbed"
          }
        },
        "204c87ac895c41a593d1fa385e251ee5": {
          "model_module": "@jupyter-widgets/controls",
          "model_name": "HTMLModel",
          "model_module_version": "1.5.0",
          "state": {
            "_dom_classes": [],
            "_model_module": "@jupyter-widgets/controls",
            "_model_module_version": "1.5.0",
            "_model_name": "HTMLModel",
            "_view_count": null,
            "_view_module": "@jupyter-widgets/controls",
            "_view_module_version": "1.5.0",
            "_view_name": "HTMLView",
            "description": "",
            "description_tooltip": null,
            "layout": "IPY_MODEL_d93673ee1d3e4a1ca48c9754da45e99d",
            "placeholder": "​",
            "style": "IPY_MODEL_2574a15231fb41ec8058b1b3be9d6ef0",
            "value": "100%"
          }
        },
        "09ac6f02bd1f43a486f531687841c1ba": {
          "model_module": "@jupyter-widgets/controls",
          "model_name": "FloatProgressModel",
          "model_module_version": "1.5.0",
          "state": {
            "_dom_classes": [],
            "_model_module": "@jupyter-widgets/controls",
            "_model_module_version": "1.5.0",
            "_model_name": "FloatProgressModel",
            "_view_count": null,
            "_view_module": "@jupyter-widgets/controls",
            "_view_module_version": "1.5.0",
            "_view_name": "ProgressView",
            "bar_style": "success",
            "description": "",
            "description_tooltip": null,
            "layout": "IPY_MODEL_0454f1506a464293bd6656c9913e0de1",
            "max": 175,
            "min": 0,
            "orientation": "horizontal",
            "style": "IPY_MODEL_ed198fc4c8da4983978734bf752516e8",
            "value": 175
          }
        },
        "50dd7953c4ad477da0f242298e6b3d09": {
          "model_module": "@jupyter-widgets/controls",
          "model_name": "HTMLModel",
          "model_module_version": "1.5.0",
          "state": {
            "_dom_classes": [],
            "_model_module": "@jupyter-widgets/controls",
            "_model_module_version": "1.5.0",
            "_model_name": "HTMLModel",
            "_view_count": null,
            "_view_module": "@jupyter-widgets/controls",
            "_view_module_version": "1.5.0",
            "_view_name": "HTMLView",
            "description": "",
            "description_tooltip": null,
            "layout": "IPY_MODEL_46326c6b3faf42779a14e5d84ade46b0",
            "placeholder": "​",
            "style": "IPY_MODEL_4ef50310da0b466397a4284c61e89963",
            "value": " 175/175 [00:00&lt;00:00, 3235.76it/s]"
          }
        },
        "e7880038457e4924b1ade9de01fcdbed": {
          "model_module": "@jupyter-widgets/base",
          "model_name": "LayoutModel",
          "model_module_version": "1.2.0",
          "state": {
            "_model_module": "@jupyter-widgets/base",
            "_model_module_version": "1.2.0",
            "_model_name": "LayoutModel",
            "_view_count": null,
            "_view_module": "@jupyter-widgets/base",
            "_view_module_version": "1.2.0",
            "_view_name": "LayoutView",
            "align_content": null,
            "align_items": null,
            "align_self": null,
            "border": null,
            "bottom": null,
            "display": null,
            "flex": null,
            "flex_flow": null,
            "grid_area": null,
            "grid_auto_columns": null,
            "grid_auto_flow": null,
            "grid_auto_rows": null,
            "grid_column": null,
            "grid_gap": null,
            "grid_row": null,
            "grid_template_areas": null,
            "grid_template_columns": null,
            "grid_template_rows": null,
            "height": null,
            "justify_content": null,
            "justify_items": null,
            "left": null,
            "margin": null,
            "max_height": null,
            "max_width": null,
            "min_height": null,
            "min_width": null,
            "object_fit": null,
            "object_position": null,
            "order": null,
            "overflow": null,
            "overflow_x": null,
            "overflow_y": null,
            "padding": null,
            "right": null,
            "top": null,
            "visibility": null,
            "width": null
          }
        },
        "d93673ee1d3e4a1ca48c9754da45e99d": {
          "model_module": "@jupyter-widgets/base",
          "model_name": "LayoutModel",
          "model_module_version": "1.2.0",
          "state": {
            "_model_module": "@jupyter-widgets/base",
            "_model_module_version": "1.2.0",
            "_model_name": "LayoutModel",
            "_view_count": null,
            "_view_module": "@jupyter-widgets/base",
            "_view_module_version": "1.2.0",
            "_view_name": "LayoutView",
            "align_content": null,
            "align_items": null,
            "align_self": null,
            "border": null,
            "bottom": null,
            "display": null,
            "flex": null,
            "flex_flow": null,
            "grid_area": null,
            "grid_auto_columns": null,
            "grid_auto_flow": null,
            "grid_auto_rows": null,
            "grid_column": null,
            "grid_gap": null,
            "grid_row": null,
            "grid_template_areas": null,
            "grid_template_columns": null,
            "grid_template_rows": null,
            "height": null,
            "justify_content": null,
            "justify_items": null,
            "left": null,
            "margin": null,
            "max_height": null,
            "max_width": null,
            "min_height": null,
            "min_width": null,
            "object_fit": null,
            "object_position": null,
            "order": null,
            "overflow": null,
            "overflow_x": null,
            "overflow_y": null,
            "padding": null,
            "right": null,
            "top": null,
            "visibility": null,
            "width": null
          }
        },
        "2574a15231fb41ec8058b1b3be9d6ef0": {
          "model_module": "@jupyter-widgets/controls",
          "model_name": "DescriptionStyleModel",
          "model_module_version": "1.5.0",
          "state": {
            "_model_module": "@jupyter-widgets/controls",
            "_model_module_version": "1.5.0",
            "_model_name": "DescriptionStyleModel",
            "_view_count": null,
            "_view_module": "@jupyter-widgets/base",
            "_view_module_version": "1.2.0",
            "_view_name": "StyleView",
            "description_width": ""
          }
        },
        "0454f1506a464293bd6656c9913e0de1": {
          "model_module": "@jupyter-widgets/base",
          "model_name": "LayoutModel",
          "model_module_version": "1.2.0",
          "state": {
            "_model_module": "@jupyter-widgets/base",
            "_model_module_version": "1.2.0",
            "_model_name": "LayoutModel",
            "_view_count": null,
            "_view_module": "@jupyter-widgets/base",
            "_view_module_version": "1.2.0",
            "_view_name": "LayoutView",
            "align_content": null,
            "align_items": null,
            "align_self": null,
            "border": null,
            "bottom": null,
            "display": null,
            "flex": null,
            "flex_flow": null,
            "grid_area": null,
            "grid_auto_columns": null,
            "grid_auto_flow": null,
            "grid_auto_rows": null,
            "grid_column": null,
            "grid_gap": null,
            "grid_row": null,
            "grid_template_areas": null,
            "grid_template_columns": null,
            "grid_template_rows": null,
            "height": null,
            "justify_content": null,
            "justify_items": null,
            "left": null,
            "margin": null,
            "max_height": null,
            "max_width": null,
            "min_height": null,
            "min_width": null,
            "object_fit": null,
            "object_position": null,
            "order": null,
            "overflow": null,
            "overflow_x": null,
            "overflow_y": null,
            "padding": null,
            "right": null,
            "top": null,
            "visibility": null,
            "width": null
          }
        },
        "ed198fc4c8da4983978734bf752516e8": {
          "model_module": "@jupyter-widgets/controls",
          "model_name": "ProgressStyleModel",
          "model_module_version": "1.5.0",
          "state": {
            "_model_module": "@jupyter-widgets/controls",
            "_model_module_version": "1.5.0",
            "_model_name": "ProgressStyleModel",
            "_view_count": null,
            "_view_module": "@jupyter-widgets/base",
            "_view_module_version": "1.2.0",
            "_view_name": "StyleView",
            "bar_color": null,
            "description_width": ""
          }
        },
        "46326c6b3faf42779a14e5d84ade46b0": {
          "model_module": "@jupyter-widgets/base",
          "model_name": "LayoutModel",
          "model_module_version": "1.2.0",
          "state": {
            "_model_module": "@jupyter-widgets/base",
            "_model_module_version": "1.2.0",
            "_model_name": "LayoutModel",
            "_view_count": null,
            "_view_module": "@jupyter-widgets/base",
            "_view_module_version": "1.2.0",
            "_view_name": "LayoutView",
            "align_content": null,
            "align_items": null,
            "align_self": null,
            "border": null,
            "bottom": null,
            "display": null,
            "flex": null,
            "flex_flow": null,
            "grid_area": null,
            "grid_auto_columns": null,
            "grid_auto_flow": null,
            "grid_auto_rows": null,
            "grid_column": null,
            "grid_gap": null,
            "grid_row": null,
            "grid_template_areas": null,
            "grid_template_columns": null,
            "grid_template_rows": null,
            "height": null,
            "justify_content": null,
            "justify_items": null,
            "left": null,
            "margin": null,
            "max_height": null,
            "max_width": null,
            "min_height": null,
            "min_width": null,
            "object_fit": null,
            "object_position": null,
            "order": null,
            "overflow": null,
            "overflow_x": null,
            "overflow_y": null,
            "padding": null,
            "right": null,
            "top": null,
            "visibility": null,
            "width": null
          }
        },
        "4ef50310da0b466397a4284c61e89963": {
          "model_module": "@jupyter-widgets/controls",
          "model_name": "DescriptionStyleModel",
          "model_module_version": "1.5.0",
          "state": {
            "_model_module": "@jupyter-widgets/controls",
            "_model_module_version": "1.5.0",
            "_model_name": "DescriptionStyleModel",
            "_view_count": null,
            "_view_module": "@jupyter-widgets/base",
            "_view_module_version": "1.2.0",
            "_view_name": "StyleView",
            "description_width": ""
          }
        }
      }
    }
  },
  "nbformat": 4,
  "nbformat_minor": 5
}